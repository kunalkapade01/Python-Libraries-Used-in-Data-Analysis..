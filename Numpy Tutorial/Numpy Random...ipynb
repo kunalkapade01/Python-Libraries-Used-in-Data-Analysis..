{
 "cells": [
  {
   "cell_type": "markdown",
   "id": "0af395ca",
   "metadata": {},
   "source": [
    "                    **𝐍𝐮𝐦𝐩𝐲 𝐑𝐚𝐧𝐝𝐨𝐦**             -- 𝐊𝐮𝐧𝐚𝐥 𝐊𝐚𝐩𝐚𝐝𝐞"
   ]
  },
  {
   "cell_type": "code",
   "execution_count": 2,
   "id": "8c69b0fe",
   "metadata": {},
   "outputs": [
    {
     "name": "stdout",
     "output_type": "stream",
     "text": [
      "0.24902625905927644\n",
      "--------\n",
      "[0.75447644 0.12188665 0.31618359 0.85766834 0.70982355]\n",
      "---------\n",
      "50\n",
      "---------\n",
      "[[7 3 5]\n",
      " [7 9 7]\n",
      " [9 3 9]]\n",
      "-----------\n",
      "99\n"
     ]
    }
   ],
   "source": [
    "from numpy import random\n",
    "x1 = random.rand()\n",
    "x2 = random.rand(5)\n",
    "x3 = random.choice([30, 50, 70, 90])\n",
    "x4 = random.choice([3, 5, 7, 9], size=(3, 3))\n",
    "x5 = random.randint(100)\n",
    "\n",
    "print(x1)\n",
    "print(\"--------\")\n",
    "print(x2)\n",
    "print(\"---------\")\n",
    "print(x3)\n",
    "print(\"---------\")\n",
    "print(x4)\n",
    "print(\"-----------\")\n",
    "print(x5)"
   ]
  },
  {
   "cell_type": "markdown",
   "id": "2f5b00de",
   "metadata": {},
   "source": [
    "- Normal (Gaussian) Distribution:"
   ]
  },
  {
   "cell_type": "code",
   "execution_count": 3,
   "id": "1ec9262a",
   "metadata": {},
   "outputs": [
    {
     "name": "stdout",
     "output_type": "stream",
     "text": [
      "[[-0.21459552  2.74530352]\n",
      " [ 2.42896617  0.57899434]\n",
      " [ 2.8118457  -0.59744633]]\n",
      "--------\n",
      "[4 6 5 7 5 2 2 5 5 5]\n",
      "--------\n",
      "[3 0 2 1 1 1 2 2 1 2]\n",
      "--------\n",
      "[[0.10291113 0.64151115]\n",
      " [0.38813246 0.50692994]\n",
      " [0.09061382 0.16890667]]\n",
      "--------\n",
      "[[-2.25057437 -2.41980695]\n",
      " [ 5.9295599  -0.68689022]\n",
      " [-1.97812384  3.74278595]]\n"
     ]
    }
   ],
   "source": [
    "y1 = random.normal(loc=1, scale=2, size=(3, 2))\n",
    "y2 = random.binomial(n=10, p=0.5, size=10)\n",
    "y3 = random.poisson(lam=2, size=10)\n",
    "y4 = random.uniform(size=(3, 2))\n",
    "y5 = random.logistic(loc=1, scale=2, size=(3, 2))\n",
    "\n",
    "print(y1)\n",
    "print(\"--------\")\n",
    "print(y2)\n",
    "print(\"--------\")\n",
    "print(y3)\n",
    "print(\"--------\")\n",
    "print(y4)\n",
    "print(\"--------\")\n",
    "print(y5)"
   ]
  },
  {
   "cell_type": "code",
   "execution_count": null,
   "id": "33714954",
   "metadata": {},
   "outputs": [],
   "source": []
  }
 ],
 "metadata": {
  "kernelspec": {
   "display_name": "Python 3 (ipykernel)",
   "language": "python",
   "name": "python3"
  },
  "language_info": {
   "codemirror_mode": {
    "name": "ipython",
    "version": 3
   },
   "file_extension": ".py",
   "mimetype": "text/x-python",
   "name": "python",
   "nbconvert_exporter": "python",
   "pygments_lexer": "ipython3",
   "version": "3.11.5"
  }
 },
 "nbformat": 4,
 "nbformat_minor": 5
}

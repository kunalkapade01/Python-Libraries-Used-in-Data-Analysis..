{
 "cells": [
  {
   "cell_type": "markdown",
   "id": "1e543bbe",
   "metadata": {},
   "source": [
    "# Numpy Basic :"
   ]
  },
  {
   "cell_type": "markdown",
   "id": "42564983",
   "metadata": {},
   "source": [
    "- 𝐍𝐮𝐦𝐩𝐲 𝐢𝐬 𝐩𝐲𝐭𝐡𝐨𝐧 𝐥𝐢𝐛𝐫𝐚𝐫𝐲 𝐮𝐬𝐞𝐝 𝐟𝐨𝐫 𝐰𝐫𝐨𝐤𝐢𝐧𝐠 𝐰𝐢𝐭𝐡 𝐚𝐫𝐫𝐚𝐲𝐬.\n",
    "- 𝐈𝐭 𝐢𝐬 𝐚𝐥𝐬𝐨 𝐡𝐚𝐬 𝐟𝐮𝐧𝐜𝐭𝐢𝐨𝐧 𝐟𝐨𝐫 𝐰𝐨𝐫𝐤𝐢𝐧𝐠 𝐢𝐧 𝐝𝐨𝐦𝐚𝐢𝐧 𝐨𝐟 𝐥𝐢𝐧𝐞𝐚𝐫 𝐚𝐥𝐠𝐞𝐛𝐫𝐚, 𝐟𝐨𝐮𝐫𝐢𝐞𝐫 𝐭𝐫𝐚𝐧𝐬𝐟𝐨𝐫𝐦 & 𝐦𝐚𝐭𝐫𝐢𝐜𝐞𝐬.."
   ]
  },
  {
   "cell_type": "code",
   "execution_count": 2,
   "id": "5edba05a",
   "metadata": {},
   "outputs": [],
   "source": [
    "# Import this library :\n",
    "import numpy as np "
   ]
  },
  {
   "cell_type": "code",
   "execution_count": 3,
   "id": "0aaea681",
   "metadata": {},
   "outputs": [
    {
     "data": {
      "text/plain": [
       "<module 'numpy.version' from 'C:\\\\Users\\\\kunal\\\\anaconda3\\\\Lib\\\\site-packages\\\\numpy\\\\version.py'>"
      ]
     },
     "execution_count": 3,
     "metadata": {},
     "output_type": "execute_result"
    }
   ],
   "source": [
    "# checking  version :\n",
    "np.version"
   ]
  },
  {
   "cell_type": "markdown",
   "id": "12110a68",
   "metadata": {},
   "source": [
    "- Creating Array :"
   ]
  },
  {
   "cell_type": "code",
   "execution_count": 5,
   "id": "a5488017",
   "metadata": {},
   "outputs": [
    {
     "name": "stdout",
     "output_type": "stream",
     "text": [
      "[0 1 2 3 4 5]\n",
      "<class 'numpy.ndarray'>\n",
      "[[1 2 3]\n",
      " [4 5 6]]\n",
      "[[[[[100 200 300 400]]]]]\n"
     ]
    }
   ],
   "source": [
    "# 1D array :\n",
    "arr = np.array([0, 1, 2, 3, 4, 5])\n",
    "print(arr)\n",
    "print(type(arr))\n",
    "\n",
    "# 2D array :\n",
    "arr_1 = np.array([[1, 2, 3], [4, 5, 6]])\n",
    "print(arr_1)\n",
    "\n",
    "# Higher dimensional array :\n",
    "arr_3 = np.array([100, 200, 300, 400], ndmin=5)\n",
    "print(arr_3)"
   ]
  },
  {
   "cell_type": "markdown",
   "id": "7ed4a512",
   "metadata": {},
   "source": [
    "- Array Slicing : It is very most imp part in array.."
   ]
  },
  {
   "cell_type": "code",
   "execution_count": 8,
   "id": "1c2d789d",
   "metadata": {},
   "outputs": [
    {
     "name": "stdout",
     "output_type": "stream",
     "text": [
      "[10 20 30 40 50]\n",
      "[10 20 30 40]\n",
      "[50 60 70]\n"
     ]
    }
   ],
   "source": [
    "arr_slicing = np.array([10, 20, 30, 40, 50, 60, 70, 80])\n",
    "\n",
    "print(arr_slicing[0:5])\n",
    "print(arr_slicing[:-4])\n",
    "print(arr_slicing[-4:-1])"
   ]
  },
  {
   "cell_type": "markdown",
   "id": "4a3e0108",
   "metadata": {},
   "source": [
    "- Numpy Function :"
   ]
  },
  {
   "cell_type": "code",
   "execution_count": 10,
   "id": "2f9c5c13",
   "metadata": {},
   "outputs": [
    {
     "name": "stdout",
     "output_type": "stream",
     "text": [
      "[  1   2 100   3   4   5]\n",
      "[  1   2 100   3 200   4   5]\n"
     ]
    }
   ],
   "source": [
    "# Insert() :\n",
    "fun = np.array([1, 2, 3, 4, 5])\n",
    "fun = np.insert(fun, 2, 100)\n",
    "print(fun)\n",
    "\n",
    "fun_1 = np.insert(fun, 4, 200)\n",
    "print(fun_1)"
   ]
  },
  {
   "cell_type": "markdown",
   "id": "f04c75c2",
   "metadata": {},
   "source": [
    "- COPY :"
   ]
  },
  {
   "cell_type": "code",
   "execution_count": 11,
   "id": "731d459f",
   "metadata": {},
   "outputs": [
    {
     "name": "stdout",
     "output_type": "stream",
     "text": [
      "[1 2 3 4]\n",
      "[10  2  3  4]\n"
     ]
    }
   ],
   "source": [
    "arr = np.array([1, 2, 3, 4])\n",
    "x = arr.copy()\n",
    "arr[0] = 10\n",
    "\n",
    "print(x)\n",
    "print(arr)"
   ]
  },
  {
   "cell_type": "markdown",
   "id": "f4d24e29",
   "metadata": {},
   "source": [
    "- View :"
   ]
  },
  {
   "cell_type": "code",
   "execution_count": 12,
   "id": "bce3234e",
   "metadata": {},
   "outputs": [
    {
     "name": "stdout",
     "output_type": "stream",
     "text": [
      "[10  2  3  4]\n",
      "[10  2  3  4]\n"
     ]
    }
   ],
   "source": [
    "arr = np.array([1, 2, 3, 4])\n",
    "x = arr.view()\n",
    "arr[0] = 10\n",
    "\n",
    "print(x)\n",
    "print(arr)"
   ]
  },
  {
   "cell_type": "markdown",
   "id": "f1a06fd2",
   "metadata": {},
   "source": [
    "- Iterating : iter"
   ]
  },
  {
   "cell_type": "code",
   "execution_count": 13,
   "id": "32b1a8d0",
   "metadata": {},
   "outputs": [
    {
     "name": "stdout",
     "output_type": "stream",
     "text": [
      "[10 20 30]\n",
      "[40 50 60]\n"
     ]
    }
   ],
   "source": [
    "arr = np.array([[10, 20, 30], [40, 50, 60]])\n",
    "for x in arr:\n",
    "    print(x)"
   ]
  },
  {
   "cell_type": "markdown",
   "id": "418cfae3",
   "metadata": {},
   "source": [
    "- Joining array :"
   ]
  },
  {
   "cell_type": "code",
   "execution_count": 14,
   "id": "1e7e37b8",
   "metadata": {},
   "outputs": [
    {
     "name": "stdout",
     "output_type": "stream",
     "text": [
      "[10 20 30 40 50 60]\n"
     ]
    }
   ],
   "source": [
    "# Join the array using concatenation :\n",
    "n1 = np.array([10, 20, 30])\n",
    "n2 = np.array([40, 50, 60])\n",
    "\n",
    "join = np.concatenate((n1, n2))\n",
    "print(join)"
   ]
  },
  {
   "cell_type": "markdown",
   "id": "20e6085e",
   "metadata": {},
   "source": [
    "- Using Stack Function :"
   ]
  },
  {
   "cell_type": "code",
   "execution_count": 15,
   "id": "1d58996f",
   "metadata": {},
   "outputs": [
    {
     "name": "stdout",
     "output_type": "stream",
     "text": [
      "[[10 40]\n",
      " [20 50]\n",
      " [30 60]]\n"
     ]
    }
   ],
   "source": [
    "# Stack function :\n",
    "n1 = np.array([10, 20, 30])\n",
    "n2 = np.array([40, 50, 60])\n",
    "\n",
    "join = np.stack((n1, n2), axis=1)\n",
    "print(join)"
   ]
  },
  {
   "cell_type": "markdown",
   "id": "23efd72c",
   "metadata": {},
   "source": [
    "- Spliting the array :"
   ]
  },
  {
   "cell_type": "code",
   "execution_count": 16,
   "id": "b5100a1a",
   "metadata": {},
   "outputs": [
    {
     "name": "stdout",
     "output_type": "stream",
     "text": [
      "[array([1, 2, 3]), array([4, 5, 6])]\n"
     ]
    }
   ],
   "source": [
    "arr = np.array([1, 2, 3, 4, 5, 6])\n",
    "split = np.array_split(arr, 2)\n",
    "print(split)"
   ]
  },
  {
   "cell_type": "code",
   "execution_count": 17,
   "id": "a603cb2c",
   "metadata": {},
   "outputs": [
    {
     "name": "stdout",
     "output_type": "stream",
     "text": [
      "[array([1, 2]), array([3, 4]), array([5, 6])]\n"
     ]
    }
   ],
   "source": [
    "arr = np.array([1, 2, 3, 4, 5, 6])\n",
    "split = np.array_split(arr, 3)\n",
    "print(split)"
   ]
  },
  {
   "cell_type": "markdown",
   "id": "7d3f7b6c",
   "metadata": {},
   "source": [
    "- Searching array :"
   ]
  },
  {
   "cell_type": "code",
   "execution_count": 20,
   "id": "1dc82a3f",
   "metadata": {},
   "outputs": [
    {
     "name": "stdout",
     "output_type": "stream",
     "text": [
      "(array([], dtype=int64),)\n",
      "(array([0, 1, 2], dtype=int64),)\n",
      "(array([3, 4, 5], dtype=int64),)\n"
     ]
    }
   ],
   "source": [
    "arr = np.array([10, 20, 30, 45, 55, 5])\n",
    "x = np.where(arr == 4)\n",
    "y = np.where(arr%2 == 0)\n",
    "z = np.where(arr%2 == 1)\n",
    "\n",
    "print(x)\n",
    "print(y)\n",
    "print(z)"
   ]
  },
  {
   "cell_type": "markdown",
   "id": "3b967a7d",
   "metadata": {},
   "source": [
    "- Sorting :"
   ]
  },
  {
   "cell_type": "code",
   "execution_count": 21,
   "id": "1f7af9b5",
   "metadata": {},
   "outputs": [
    {
     "name": "stdout",
     "output_type": "stream",
     "text": [
      "[0 1 2 3]\n",
      "['apple' 'banana' 'cherry']\n"
     ]
    }
   ],
   "source": [
    "sort_1 = np.array([3, 0, 2, 1])\n",
    "sort_2 = np.array([\"cherry\", \"apple\", \"banana\"])\n",
    "\n",
    "print(np.sort(sort_1))\n",
    "print(np.sort(sort_2))"
   ]
  },
  {
   "cell_type": "markdown",
   "id": "c2a22ae7",
   "metadata": {},
   "source": [
    "- Filter :"
   ]
  },
  {
   "cell_type": "code",
   "execution_count": 24,
   "id": "4070320c",
   "metadata": {},
   "outputs": [
    {
     "name": "stdout",
     "output_type": "stream",
     "text": [
      "[20 10 30]\n"
     ]
    }
   ],
   "source": [
    "arr = np.array([20, 40, 10, 30])\n",
    "x = [True, False, True, True]\n",
    "\n",
    "filter = arr[x]\n",
    "print(filter)"
   ]
  },
  {
   "cell_type": "code",
   "execution_count": null,
   "id": "dd508b65",
   "metadata": {},
   "outputs": [],
   "source": []
  }
 ],
 "metadata": {
  "kernelspec": {
   "display_name": "Python 3 (ipykernel)",
   "language": "python",
   "name": "python3"
  },
  "language_info": {
   "codemirror_mode": {
    "name": "ipython",
    "version": 3
   },
   "file_extension": ".py",
   "mimetype": "text/x-python",
   "name": "python",
   "nbconvert_exporter": "python",
   "pygments_lexer": "ipython3",
   "version": "3.11.5"
  }
 },
 "nbformat": 4,
 "nbformat_minor": 5
}
